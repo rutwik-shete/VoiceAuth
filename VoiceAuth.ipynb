{
 "cells": [
  {
   "cell_type": "markdown",
   "metadata": {},
   "source": [
    "### Imporintg Necessary Libraries"
   ]
  },
  {
   "cell_type": "code",
   "execution_count": 1,
   "metadata": {},
   "outputs": [
    {
     "name": "stderr",
     "output_type": "stream",
     "text": [
      "/opt/homebrew/Caskroom/miniconda/base/envs/pytorch/lib/python3.11/site-packages/tqdm/auto.py:21: TqdmWarning: IProgress not found. Please update jupyter and ipywidgets. See https://ipywidgets.readthedocs.io/en/stable/user_install.html\n",
      "  from .autonotebook import tqdm as notebook_tqdm\n"
     ]
    }
   ],
   "source": [
    "import torchaudio\n",
    "\n",
    "# These lib is to get the pretrained embeddings model ECAPA-TDNN on Voxceleb For Speech verification\n",
    "from speechbrain.inference.speaker import SpeakerRecognition\n",
    "\n",
    "# This lib is used to get the cosine distance between the embeddings\n",
    "from scipy.spatial.distance import cosine"
   ]
  },
  {
   "cell_type": "code",
   "execution_count": 2,
   "metadata": {},
   "outputs": [
    {
     "name": "stderr",
     "output_type": "stream",
     "text": [
      "/opt/homebrew/Caskroom/miniconda/base/envs/pytorch/lib/python3.11/site-packages/speechbrain/utils/autocast.py:63: FutureWarning: `torch.cuda.amp.custom_fwd(args...)` is deprecated. Please use `torch.amp.custom_fwd(args..., device_type='cuda')` instead.\n",
      "  wrapped_fwd = torch.cuda.amp.custom_fwd(fwd, cast_inputs=cast_inputs)\n",
      "/opt/homebrew/Caskroom/miniconda/base/envs/pytorch/lib/python3.11/site-packages/speechbrain/utils/checkpoints.py:152: FutureWarning: You are using `torch.load` with `weights_only=False` (the current default value), which uses the default pickle module implicitly. It is possible to construct malicious pickle data which will execute arbitrary code during unpickling (See https://github.com/pytorch/pytorch/blob/main/SECURITY.md#untrusted-models for more details). In a future release, the default value for `weights_only` will be flipped to `True`. This limits the functions that could be executed during unpickling. Arbitrary objects will no longer be allowed to be loaded via this mode unless they are explicitly allowlisted by the user via `torch.serialization.add_safe_globals`. We recommend you start setting `weights_only=True` for any use case where you don't have full control of the loaded file. Please open an issue on GitHub for any issues related to this experimental feature.\n",
      "  torch.load(path, map_location=device), strict=False\n",
      "/opt/homebrew/Caskroom/miniconda/base/envs/pytorch/lib/python3.11/site-packages/speechbrain/processing/features.py:1228: FutureWarning: You are using `torch.load` with `weights_only=False` (the current default value), which uses the default pickle module implicitly. It is possible to construct malicious pickle data which will execute arbitrary code during unpickling (See https://github.com/pytorch/pytorch/blob/main/SECURITY.md#untrusted-models for more details). In a future release, the default value for `weights_only` will be flipped to `True`. This limits the functions that could be executed during unpickling. Arbitrary objects will no longer be allowed to be loaded via this mode unless they are explicitly allowlisted by the user via `torch.serialization.add_safe_globals`. We recommend you start setting `weights_only=True` for any use case where you don't have full control of the loaded file. Please open an issue on GitHub for any issues related to this experimental feature.\n",
      "  stats = torch.load(path, map_location=device)\n"
     ]
    }
   ],
   "source": [
    "\n",
    "# Load the ECAPA-TDNN pre-trained model\n",
    "model = SpeakerRecognition.from_hparams(source=\"speechbrain/spkrec-ecapa-voxceleb\", savedir=\"tmp\")\n",
    "\n",
    "# Preprocess audio\n",
    "def preprocess_audio(file_path, target_sample_rate=16000):\n",
    "    waveform, sample_rate = torchaudio.load(file_path)\n",
    "    if sample_rate != target_sample_rate:\n",
    "        waveform = torchaudio.transforms.Resample(orig_freq=sample_rate, new_freq=target_sample_rate)(waveform)\n",
    "    return waveform\n",
    "\n",
    "# Extract embeddings\n",
    "def extract_embeddings(model, file_path):\n",
    "    waveform = preprocess_audio(file_path)\n",
    "    embeddings = model.encode_batch(waveform)\n",
    "    return embeddings.squeeze(0)\n",
    "\n",
    "# Store embeddings in a hashmap where we take 4 samples of the same person in each folder\n",
    "voice_data = {}\n",
    "\n",
    "def store_embeddings(person_name, folder_path):\n",
    "    embeddings_list = []\n",
    "    for i in range(1, 5):\n",
    "        file_path = f\"{folder_path}/voice{i}.mp3\"\n",
    "        embeddings = extract_embeddings(model, file_path)\n",
    "        embeddings_list.append(embeddings)\n",
    "    voice_data[person_name] = embeddings_list\n",
    "\n",
    "# Compare Embeddings function to find closest match\n",
    "def compare_embeddings(new_embedding, stored_embeddings):\n",
    "    similarities = []\n",
    "    for emb in stored_embeddings:\n",
    "        distance = cosine(new_embedding.cpu().numpy().flatten(), emb.cpu().numpy().flatten())\n",
    "        similarities.append(distance)\n",
    "    return min(similarities)\n",
    "\n",
    "# Authenticate\n",
    "def authenticate(new_recording_path):\n",
    "    new_embedding = extract_embeddings(model, new_recording_path)\n",
    "    closest_match = None\n",
    "    lowest_distance = float('inf')\n",
    "\n",
    "    for person, embeddings in voice_data.items():\n",
    "        distance = compare_embeddings(new_embedding, embeddings)\n",
    "        if distance < lowest_distance:\n",
    "            lowest_distance = distance\n",
    "            closest_match = person\n",
    "\n",
    "    print(\"Distance To The Closest Point: \", lowest_distance)\n",
    "    if lowest_distance > 0.4:\n",
    "        return \"No Match Found\"\n",
    "    return closest_match\n"
   ]
  },
  {
   "cell_type": "markdown",
   "metadata": {},
   "source": [
    "### Creating Embedding from the voice samples from each person to generate the dataset to compare from"
   ]
  },
  {
   "cell_type": "code",
   "execution_count": 3,
   "metadata": {},
   "outputs": [],
   "source": [
    "# Store Embeddings And Create Dataset\n",
    "\n",
    "# Creating dataset for every person from the voice modules in their paricular folder \n",
    "store_embeddings(\"Harshita\",\"/Users/rutwikshete/Desktop/Codeing/AIProjects/VoiceAuth/dataset/h\")\n",
    "store_embeddings(\"Rutwik\",\"/Users/rutwikshete/Desktop/Codeing/AIProjects/VoiceAuth/dataset/r\")\n",
    "store_embeddings(\"Teni\",\"/Users/rutwikshete/Desktop/Codeing/AIProjects/VoiceAuth/dataset/t\")\n",
    "store_embeddings(\"Appa\",\"/Users/rutwikshete/Desktop/Codeing/AIProjects/VoiceAuth/dataset/a\")"
   ]
  },
  {
   "cell_type": "markdown",
   "metadata": {},
   "source": [
    "### Auth test for a person who **Exist** in the dataset"
   ]
  },
  {
   "cell_type": "code",
   "execution_count": 4,
   "metadata": {},
   "outputs": [
    {
     "name": "stdout",
     "output_type": "stream",
     "text": [
      "Distance To The Closest Point:  0.19660162925720215\n",
      "The Recording Belongs To :  Harshita\n"
     ]
    }
   ],
   "source": [
    "# Auth test with different peaople from the dataset uncomment one and try\n",
    "\n",
    "Auth_Person = authenticate(\"/Users/rutwikshete/Desktop/Codeing/AIProjects/VoiceAuth/dataset/test/test(h).mp3\")\n",
    "# Auth_Person = authenticate(\"/Users/rutwikshete/Desktop/Codeing/AIProjects/VoiceAuth/dataset/test/test(r).mp3\")\n",
    "# Auth_Person = authenticate(\"/Users/rutwikshete/Desktop/Codeing/AIProjects/VoiceAuth/dataset/test/test(t).mp3\")\n",
    "# Auth_Person = authenticate(\"/Users/rutwikshete/Desktop/Codeing/AIProjects/VoiceAuth/dataset/test/test(a).mp3\")\n",
    "\n",
    "print(\"The Recording Belongs To : \",Auth_Person)"
   ]
  },
  {
   "cell_type": "markdown",
   "metadata": {},
   "source": [
    "### Auth test for a person who **Does Not** Exist in the dataset"
   ]
  },
  {
   "cell_type": "code",
   "execution_count": 5,
   "metadata": {},
   "outputs": [
    {
     "name": "stdout",
     "output_type": "stream",
     "text": [
      "Distance To The Closest Point:  0.7854232043027878\n",
      "The Recording Belongs To :  No Match Found\n"
     ]
    }
   ],
   "source": [
    "Auth_Person = authenticate(\"/Users/rutwikshete/Desktop/Codeing/AIProjects/VoiceAuth/dataset/test/test(random).mp3\")\n",
    "\n",
    "print(\"The Recording Belongs To : \",Auth_Person)"
   ]
  },
  {
   "cell_type": "code",
   "execution_count": null,
   "metadata": {},
   "outputs": [],
   "source": []
  }
 ],
 "metadata": {
  "kernelspec": {
   "display_name": "pytorch",
   "language": "python",
   "name": "python3"
  },
  "language_info": {
   "codemirror_mode": {
    "name": "ipython",
    "version": 3
   },
   "file_extension": ".py",
   "mimetype": "text/x-python",
   "name": "python",
   "nbconvert_exporter": "python",
   "pygments_lexer": "ipython3",
   "version": "3.11.3"
  }
 },
 "nbformat": 4,
 "nbformat_minor": 2
}
